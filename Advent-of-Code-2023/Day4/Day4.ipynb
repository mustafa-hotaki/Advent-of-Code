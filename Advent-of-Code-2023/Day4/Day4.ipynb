{
  "nbformat": 4,
  "nbformat_minor": 0,
  "metadata": {
    "colab": {
      "provenance": []
    },
    "kernelspec": {
      "name": "python3",
      "display_name": "Python 3"
    },
    "language_info": {
      "name": "python"
    }
  },
  "cells": [
    {
      "cell_type": "code",
      "execution_count": 128,
      "metadata": {
        "colab": {
          "base_uri": "https://localhost:8080/"
        },
        "id": "K05TGXbYlU12",
        "outputId": "32f50883-494b-4f02-c209-617d0862522a"
      },
      "outputs": [
        {
          "output_type": "stream",
          "name": "stdout",
          "text": [
            "First 10 data points: ['Card   1: 82 41 56 54 18 62 29 55 34 20 | 37 14 10 80 58 11 65 96 90  8 59 32 53 21 98 83 17  9 87 25 71 77 70 73 24', 'Card   2:  3 18 94 53 23 49 60 44 67  9 | 77 10 44 41 17 23 83 60 49 43 94 76 67 87 66  9 73 29  3 33 92 53 18  6 47', 'Card   3: 85  9 33 66 70 28 91 60 96 65 | 33 56 83 65 15 23 99 60 26 66  9 70 97 11 38  1 85 96 28 59 50 91 71 48 89', 'Card   4: 51  5 25 18 53 30 43 49 91 21 | 21 48  1 85 51 80 18 16  9 87 66  3 14 13 39 34  5 70 69 49 28 37 72  6 98', 'Card   5: 32 62 99 93 37 22 64 57 94 55 | 23  1 26 15 16  6 88  4 17 69 21 46 49 70 51 45 89 91 29 52 60 86 80  8 12', 'Card   6: 44 52 33 82  8 30 32 62 26 61 | 59 10 89 41 24 56 48 70 92 20  3 17 94 85 97 42  8 93 51 57 44 13 12 63 78', 'Card   7: 71 42 27 38 36 41 95 97 34 10 | 61 36 10 38 95 71 53 99 59 88 50 72 40 27  3 78 41 28 16 42 48 54  6 82 97', 'Card   8: 88 80 86 60  7 77 72 29 55 36 | 91 15  8  3 16 59 70 10 90 77 56 48 22 95 78 69 94  9 38 23 35  1 17 39  7', 'Card   9: 79 32 28 61 34 19 71 47 87  5 | 19 87 47 14  3 68 25 71  5 65 91 89 98 36 24 34 61 38 80 32 62 28 74 79  2', 'Card  10: 18 95 55  5 98 22 68 70 74 92 |  5 39 92 95 36 65 98 88 70 22  3 68 45 25 15 61 63 52 74 14 55 18 17 60 47']\n",
            "Number of data points: 211\n"
          ]
        }
      ],
      "source": [
        "data = []\n",
        "with open(\"input.txt\", \"r\") as f:\n",
        "    for line in f:\n",
        "        data.append(line.strip())\n",
        "\n",
        "print('First 10 data points:', data[:10])\n",
        "print('Number of data points:', len(data))"
      ]
    },
    {
      "cell_type": "code",
      "source": [
        "cards = {}\n",
        "for i, line in enumerate(data):\n",
        "    winning, mine = [set([int(i) for i in s.split(' ') if i.strip() != '']) for s in line[line.find(': ') + 2: ].split(' | ')]\n",
        "    cards[i + 1] = (winning, mine)"
      ],
      "metadata": {
        "id": "awjHFYNs3fvJ"
      },
      "execution_count": 120,
      "outputs": []
    },
    {
      "cell_type": "code",
      "source": [
        "total = 0\n",
        "for key in cards:\n",
        "    winning, mine = cards[key]\n",
        "    intersection = winning.intersection(mine)\n",
        "    num_matching = len(intersection)\n",
        "    if num_matching:\n",
        "        score = 2 ** (num_matching - 1)\n",
        "        total += score\n",
        "\n",
        "total"
      ],
      "metadata": {
        "colab": {
          "base_uri": "https://localhost:8080/"
        },
        "id": "9301Jw0ClaML",
        "outputId": "dc51e858-85c2-42a5-f98c-5f51e0bcb091"
      },
      "execution_count": 130,
      "outputs": [
        {
          "output_type": "execute_result",
          "data": {
            "text/plain": [
              "20667"
            ]
          },
          "metadata": {},
          "execution_count": 130
        }
      ]
    },
    {
      "cell_type": "code",
      "source": [
        "from functools import lru_cache\n",
        "\n",
        "@lru_cache(maxsize = 1000)\n",
        "def recursive_count(card_number):\n",
        "    count = 1\n",
        "    winning, mine = cards[card_number]\n",
        "    intersection = winning.intersection(mine)\n",
        "    num_matching = len(intersection)\n",
        "    for i in range(card_number + 1, card_number + num_matching + 1):\n",
        "        count += recursive_count(i)\n",
        "    return count\n",
        "\n",
        "total = 0\n",
        "for card_number in range(1, len(cards) + 1):\n",
        "    total += recursive_count(card_number)\n",
        "\n",
        "total"
      ],
      "metadata": {
        "colab": {
          "base_uri": "https://localhost:8080/"
        },
        "id": "KVeEVv1Jx59R",
        "outputId": "b5dae433-8107-460d-86e6-cf924e7b3b93"
      },
      "execution_count": 131,
      "outputs": [
        {
          "output_type": "execute_result",
          "data": {
            "text/plain": [
              "5833065"
            ]
          },
          "metadata": {},
          "execution_count": 131
        }
      ]
    },
    {
      "cell_type": "code",
      "source": [],
      "metadata": {
        "id": "La0IGjmM8yRY"
      },
      "execution_count": null,
      "outputs": []
    }
  ]
}